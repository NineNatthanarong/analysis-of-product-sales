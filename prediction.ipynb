{
 "cells": [
  {
   "cell_type": "markdown",
   "metadata": {},
   "source": [
    "## Cost Prediction on acquiring Customers."
   ]
  },
  {
   "cell_type": "markdown",
   "metadata": {},
   "source": [
    "### Section 1 : Business Understanding\n",
    "**1.What is the #1 factor driving sales?**<br>\n",
    "**2.What is the next factor that drives sales?**<br>\n",
    "**3.What are the factors that lead to low sales?**<br>\n",
    "**4.What kind of advertising is the most profitable?**<br>"
   ]
  },
  {
   "cell_type": "markdown",
   "metadata": {},
   "source": [
    "#### Import modules"
   ]
  },
  {
   "cell_type": "markdown",
   "metadata": {},
   "source": [
    "Import the necessary modules for data management and data presentation."
   ]
  },
  {
   "cell_type": "code",
   "execution_count": 9,
   "metadata": {},
   "outputs": [
    {
     "name": "stdout",
     "output_type": "stream",
     "text": [
      "The pycodestyle_magic extension is already loaded. To reload it, use:\n",
      "  %reload_ext pycodestyle_magic\n"
     ]
    }
   ],
   "source": [
    "import pandas as pd\n",
    "import numpy as np\n",
    "import seaborn as sns\n",
    "import matplotlib.pyplot as plt\n",
    "%load_ext pycodestyle_magic\n",
    "%matplotlib inline"
   ]
  },
  {
   "cell_type": "code",
   "execution_count": 10,
   "metadata": {},
   "outputs": [
    {
     "name": "stdout",
     "output_type": "stream",
     "text": [
      "0.5\n"
     ]
    }
   ],
   "source": [
    "import flake8,pycodestyle,pycodestyle_magic\n",
    "print(pycodestyle_magic.__version__)"
   ]
  },
  {
   "cell_type": "markdown",
   "metadata": {},
   "source": [
    "### Section 2 : Data Understanding"
   ]
  },
  {
   "cell_type": "markdown",
   "metadata": {},
   "source": [
    "#### Gather data"
   ]
  },
  {
   "cell_type": "markdown",
   "metadata": {},
   "source": [
    "loading data csv"
   ]
  },
  {
   "cell_type": "code",
   "execution_count": 11,
   "metadata": {},
   "outputs": [
    {
     "data": {
      "text/plain": [
       "(60428, 40)"
      ]
     },
     "execution_count": 11,
     "metadata": {},
     "output_type": "execute_result"
    }
   ],
   "source": [
    "df = pd.read_csv('media prediction and its cost.csv')\n",
    "df.shape"
   ]
  },
  {
   "cell_type": "code",
   "execution_count": 12,
   "metadata": {},
   "outputs": [
    {
     "data": {
      "text/html": [
       "<div>\n",
       "<style scoped>\n",
       "    .dataframe tbody tr th:only-of-type {\n",
       "        vertical-align: middle;\n",
       "    }\n",
       "\n",
       "    .dataframe tbody tr th {\n",
       "        vertical-align: top;\n",
       "    }\n",
       "\n",
       "    .dataframe thead th {\n",
       "        text-align: right;\n",
       "    }\n",
       "</style>\n",
       "<table border=\"1\" class=\"dataframe\">\n",
       "  <thead>\n",
       "    <tr style=\"text-align: right;\">\n",
       "      <th></th>\n",
       "      <th>food_category</th>\n",
       "      <th>food_department</th>\n",
       "      <th>food_family</th>\n",
       "      <th>store_sales(in millions)</th>\n",
       "      <th>store_cost(in millions)</th>\n",
       "      <th>unit_sales(in millions)</th>\n",
       "      <th>promotion_name</th>\n",
       "      <th>sales_country</th>\n",
       "      <th>marital_status</th>\n",
       "      <th>gender</th>\n",
       "      <th>...</th>\n",
       "      <th>grocery_sqft</th>\n",
       "      <th>frozen_sqft</th>\n",
       "      <th>meat_sqft</th>\n",
       "      <th>coffee_bar</th>\n",
       "      <th>video_store</th>\n",
       "      <th>salad_bar</th>\n",
       "      <th>prepared_food</th>\n",
       "      <th>florist</th>\n",
       "      <th>media_type</th>\n",
       "      <th>cost</th>\n",
       "    </tr>\n",
       "  </thead>\n",
       "  <tbody>\n",
       "    <tr>\n",
       "      <th>0</th>\n",
       "      <td>Breakfast Foods</td>\n",
       "      <td>Frozen Foods</td>\n",
       "      <td>Food</td>\n",
       "      <td>7.36</td>\n",
       "      <td>2.7232</td>\n",
       "      <td>4.0</td>\n",
       "      <td>Bag Stuffers</td>\n",
       "      <td>USA</td>\n",
       "      <td>M</td>\n",
       "      <td>F</td>\n",
       "      <td>...</td>\n",
       "      <td>18670.0</td>\n",
       "      <td>5415.0</td>\n",
       "      <td>3610.0</td>\n",
       "      <td>1.0</td>\n",
       "      <td>1.0</td>\n",
       "      <td>1.0</td>\n",
       "      <td>1.0</td>\n",
       "      <td>1.0</td>\n",
       "      <td>Daily Paper, Radio</td>\n",
       "      <td>126.62</td>\n",
       "    </tr>\n",
       "    <tr>\n",
       "      <th>1</th>\n",
       "      <td>Breakfast Foods</td>\n",
       "      <td>Frozen Foods</td>\n",
       "      <td>Food</td>\n",
       "      <td>5.52</td>\n",
       "      <td>2.5944</td>\n",
       "      <td>3.0</td>\n",
       "      <td>Cash Register Lottery</td>\n",
       "      <td>USA</td>\n",
       "      <td>M</td>\n",
       "      <td>M</td>\n",
       "      <td>...</td>\n",
       "      <td>18670.0</td>\n",
       "      <td>5415.0</td>\n",
       "      <td>3610.0</td>\n",
       "      <td>1.0</td>\n",
       "      <td>1.0</td>\n",
       "      <td>1.0</td>\n",
       "      <td>1.0</td>\n",
       "      <td>1.0</td>\n",
       "      <td>Daily Paper, Radio</td>\n",
       "      <td>59.86</td>\n",
       "    </tr>\n",
       "    <tr>\n",
       "      <th>2</th>\n",
       "      <td>Breakfast Foods</td>\n",
       "      <td>Frozen Foods</td>\n",
       "      <td>Food</td>\n",
       "      <td>3.68</td>\n",
       "      <td>1.3616</td>\n",
       "      <td>2.0</td>\n",
       "      <td>High Roller Savings</td>\n",
       "      <td>USA</td>\n",
       "      <td>S</td>\n",
       "      <td>F</td>\n",
       "      <td>...</td>\n",
       "      <td>18670.0</td>\n",
       "      <td>5415.0</td>\n",
       "      <td>3610.0</td>\n",
       "      <td>1.0</td>\n",
       "      <td>1.0</td>\n",
       "      <td>1.0</td>\n",
       "      <td>1.0</td>\n",
       "      <td>1.0</td>\n",
       "      <td>Daily Paper, Radio</td>\n",
       "      <td>84.16</td>\n",
       "    </tr>\n",
       "    <tr>\n",
       "      <th>3</th>\n",
       "      <td>Breakfast Foods</td>\n",
       "      <td>Frozen Foods</td>\n",
       "      <td>Food</td>\n",
       "      <td>3.68</td>\n",
       "      <td>1.1776</td>\n",
       "      <td>2.0</td>\n",
       "      <td>Cash Register Lottery</td>\n",
       "      <td>USA</td>\n",
       "      <td>M</td>\n",
       "      <td>F</td>\n",
       "      <td>...</td>\n",
       "      <td>18670.0</td>\n",
       "      <td>5415.0</td>\n",
       "      <td>3610.0</td>\n",
       "      <td>1.0</td>\n",
       "      <td>1.0</td>\n",
       "      <td>1.0</td>\n",
       "      <td>1.0</td>\n",
       "      <td>1.0</td>\n",
       "      <td>In-Store Coupon</td>\n",
       "      <td>95.78</td>\n",
       "    </tr>\n",
       "    <tr>\n",
       "      <th>4</th>\n",
       "      <td>Breakfast Foods</td>\n",
       "      <td>Frozen Foods</td>\n",
       "      <td>Food</td>\n",
       "      <td>4.08</td>\n",
       "      <td>1.4280</td>\n",
       "      <td>3.0</td>\n",
       "      <td>Double Down Sale</td>\n",
       "      <td>USA</td>\n",
       "      <td>M</td>\n",
       "      <td>M</td>\n",
       "      <td>...</td>\n",
       "      <td>18670.0</td>\n",
       "      <td>5415.0</td>\n",
       "      <td>3610.0</td>\n",
       "      <td>1.0</td>\n",
       "      <td>1.0</td>\n",
       "      <td>1.0</td>\n",
       "      <td>1.0</td>\n",
       "      <td>1.0</td>\n",
       "      <td>Radio</td>\n",
       "      <td>50.79</td>\n",
       "    </tr>\n",
       "  </tbody>\n",
       "</table>\n",
       "<p>5 rows × 40 columns</p>\n",
       "</div>"
      ],
      "text/plain": [
       "     food_category food_department food_family  store_sales(in millions)  \\\n",
       "0  Breakfast Foods    Frozen Foods        Food                      7.36   \n",
       "1  Breakfast Foods    Frozen Foods        Food                      5.52   \n",
       "2  Breakfast Foods    Frozen Foods        Food                      3.68   \n",
       "3  Breakfast Foods    Frozen Foods        Food                      3.68   \n",
       "4  Breakfast Foods    Frozen Foods        Food                      4.08   \n",
       "\n",
       "   store_cost(in millions)  unit_sales(in millions)         promotion_name  \\\n",
       "0                   2.7232                      4.0           Bag Stuffers   \n",
       "1                   2.5944                      3.0  Cash Register Lottery   \n",
       "2                   1.3616                      2.0    High Roller Savings   \n",
       "3                   1.1776                      2.0  Cash Register Lottery   \n",
       "4                   1.4280                      3.0       Double Down Sale   \n",
       "\n",
       "  sales_country marital_status gender  ...  grocery_sqft frozen_sqft  \\\n",
       "0           USA              M      F  ...       18670.0      5415.0   \n",
       "1           USA              M      M  ...       18670.0      5415.0   \n",
       "2           USA              S      F  ...       18670.0      5415.0   \n",
       "3           USA              M      F  ...       18670.0      5415.0   \n",
       "4           USA              M      M  ...       18670.0      5415.0   \n",
       "\n",
       "  meat_sqft coffee_bar video_store  salad_bar prepared_food  florist  \\\n",
       "0    3610.0        1.0         1.0        1.0           1.0      1.0   \n",
       "1    3610.0        1.0         1.0        1.0           1.0      1.0   \n",
       "2    3610.0        1.0         1.0        1.0           1.0      1.0   \n",
       "3    3610.0        1.0         1.0        1.0           1.0      1.0   \n",
       "4    3610.0        1.0         1.0        1.0           1.0      1.0   \n",
       "\n",
       "           media_type    cost  \n",
       "0  Daily Paper, Radio  126.62  \n",
       "1  Daily Paper, Radio   59.86  \n",
       "2  Daily Paper, Radio   84.16  \n",
       "3     In-Store Coupon   95.78  \n",
       "4               Radio   50.79  \n",
       "\n",
       "[5 rows x 40 columns]"
      ]
     },
     "execution_count": 12,
     "metadata": {},
     "output_type": "execute_result"
    }
   ],
   "source": [
    "df.head()"
   ]
  },
  {
   "cell_type": "markdown",
   "metadata": {},
   "source": [
    "### Section 3 : Data preparation"
   ]
  },
  {
   "cell_type": "markdown",
   "metadata": {},
   "source": [
    "Select the object type and use the get_dummies function to extract it and make the numeric data easy to relate to."
   ]
  },
  {
   "cell_type": "code",
   "execution_count": 13,
   "metadata": {},
   "outputs": [],
   "source": [
    "cat_vars = df.select_dtypes(include=[object] )\n",
    "for var in cat_vars:\n",
    "    df = pd.concat([df.drop(var, axis=1), pd.get_dummies(df[var], prefix=var, prefix_sep='_', drop_first=True)], axis=1)"
   ]
  },
  {
   "cell_type": "code",
   "execution_count": 14,
   "metadata": {},
   "outputs": [
    {
     "data": {
      "text/html": [
       "<div>\n",
       "<style scoped>\n",
       "    .dataframe tbody tr th:only-of-type {\n",
       "        vertical-align: middle;\n",
       "    }\n",
       "\n",
       "    .dataframe tbody tr th {\n",
       "        vertical-align: top;\n",
       "    }\n",
       "\n",
       "    .dataframe thead th {\n",
       "        text-align: right;\n",
       "    }\n",
       "</style>\n",
       "<table border=\"1\" class=\"dataframe\">\n",
       "  <thead>\n",
       "    <tr style=\"text-align: right;\">\n",
       "      <th></th>\n",
       "      <th>store_sales(in millions)</th>\n",
       "      <th>store_cost(in millions)</th>\n",
       "      <th>unit_sales(in millions)</th>\n",
       "      <th>total_children</th>\n",
       "      <th>avg_cars_at home(approx)</th>\n",
       "      <th>num_children_at_home</th>\n",
       "      <th>avg_cars_at home(approx).1</th>\n",
       "      <th>SRP</th>\n",
       "      <th>gross_weight</th>\n",
       "      <th>net_weight</th>\n",
       "      <th>...</th>\n",
       "      <th>media_type_Daily Paper, Radio</th>\n",
       "      <th>media_type_Daily Paper, Radio, TV</th>\n",
       "      <th>media_type_In-Store Coupon</th>\n",
       "      <th>media_type_Product Attachment</th>\n",
       "      <th>media_type_Radio</th>\n",
       "      <th>media_type_Street Handout</th>\n",
       "      <th>media_type_Sunday Paper</th>\n",
       "      <th>media_type_Sunday Paper, Radio</th>\n",
       "      <th>media_type_Sunday Paper, Radio, TV</th>\n",
       "      <th>media_type_TV</th>\n",
       "    </tr>\n",
       "  </thead>\n",
       "  <tbody>\n",
       "    <tr>\n",
       "      <th>0</th>\n",
       "      <td>7.36</td>\n",
       "      <td>2.7232</td>\n",
       "      <td>4.0</td>\n",
       "      <td>1.0</td>\n",
       "      <td>1.0</td>\n",
       "      <td>1.0</td>\n",
       "      <td>1.0</td>\n",
       "      <td>1.84</td>\n",
       "      <td>19.70</td>\n",
       "      <td>17.70</td>\n",
       "      <td>...</td>\n",
       "      <td>1</td>\n",
       "      <td>0</td>\n",
       "      <td>0</td>\n",
       "      <td>0</td>\n",
       "      <td>0</td>\n",
       "      <td>0</td>\n",
       "      <td>0</td>\n",
       "      <td>0</td>\n",
       "      <td>0</td>\n",
       "      <td>0</td>\n",
       "    </tr>\n",
       "    <tr>\n",
       "      <th>1</th>\n",
       "      <td>5.52</td>\n",
       "      <td>2.5944</td>\n",
       "      <td>3.0</td>\n",
       "      <td>0.0</td>\n",
       "      <td>4.0</td>\n",
       "      <td>0.0</td>\n",
       "      <td>4.0</td>\n",
       "      <td>1.84</td>\n",
       "      <td>19.70</td>\n",
       "      <td>17.70</td>\n",
       "      <td>...</td>\n",
       "      <td>1</td>\n",
       "      <td>0</td>\n",
       "      <td>0</td>\n",
       "      <td>0</td>\n",
       "      <td>0</td>\n",
       "      <td>0</td>\n",
       "      <td>0</td>\n",
       "      <td>0</td>\n",
       "      <td>0</td>\n",
       "      <td>0</td>\n",
       "    </tr>\n",
       "    <tr>\n",
       "      <th>2</th>\n",
       "      <td>3.68</td>\n",
       "      <td>1.3616</td>\n",
       "      <td>2.0</td>\n",
       "      <td>4.0</td>\n",
       "      <td>1.0</td>\n",
       "      <td>0.0</td>\n",
       "      <td>1.0</td>\n",
       "      <td>1.84</td>\n",
       "      <td>19.70</td>\n",
       "      <td>17.70</td>\n",
       "      <td>...</td>\n",
       "      <td>1</td>\n",
       "      <td>0</td>\n",
       "      <td>0</td>\n",
       "      <td>0</td>\n",
       "      <td>0</td>\n",
       "      <td>0</td>\n",
       "      <td>0</td>\n",
       "      <td>0</td>\n",
       "      <td>0</td>\n",
       "      <td>0</td>\n",
       "    </tr>\n",
       "    <tr>\n",
       "      <th>3</th>\n",
       "      <td>3.68</td>\n",
       "      <td>1.1776</td>\n",
       "      <td>2.0</td>\n",
       "      <td>2.0</td>\n",
       "      <td>2.0</td>\n",
       "      <td>2.0</td>\n",
       "      <td>2.0</td>\n",
       "      <td>1.84</td>\n",
       "      <td>19.70</td>\n",
       "      <td>17.70</td>\n",
       "      <td>...</td>\n",
       "      <td>0</td>\n",
       "      <td>0</td>\n",
       "      <td>1</td>\n",
       "      <td>0</td>\n",
       "      <td>0</td>\n",
       "      <td>0</td>\n",
       "      <td>0</td>\n",
       "      <td>0</td>\n",
       "      <td>0</td>\n",
       "      <td>0</td>\n",
       "    </tr>\n",
       "    <tr>\n",
       "      <th>4</th>\n",
       "      <td>4.08</td>\n",
       "      <td>1.4280</td>\n",
       "      <td>3.0</td>\n",
       "      <td>0.0</td>\n",
       "      <td>2.0</td>\n",
       "      <td>0.0</td>\n",
       "      <td>2.0</td>\n",
       "      <td>1.36</td>\n",
       "      <td>7.12</td>\n",
       "      <td>5.11</td>\n",
       "      <td>...</td>\n",
       "      <td>0</td>\n",
       "      <td>0</td>\n",
       "      <td>0</td>\n",
       "      <td>0</td>\n",
       "      <td>1</td>\n",
       "      <td>0</td>\n",
       "      <td>0</td>\n",
       "      <td>0</td>\n",
       "      <td>0</td>\n",
       "      <td>0</td>\n",
       "    </tr>\n",
       "  </tbody>\n",
       "</table>\n",
       "<p>5 rows × 314 columns</p>\n",
       "</div>"
      ],
      "text/plain": [
       "   store_sales(in millions)  store_cost(in millions)  unit_sales(in millions)  \\\n",
       "0                      7.36                   2.7232                      4.0   \n",
       "1                      5.52                   2.5944                      3.0   \n",
       "2                      3.68                   1.3616                      2.0   \n",
       "3                      3.68                   1.1776                      2.0   \n",
       "4                      4.08                   1.4280                      3.0   \n",
       "\n",
       "   total_children  avg_cars_at home(approx)  num_children_at_home  \\\n",
       "0             1.0                       1.0                   1.0   \n",
       "1             0.0                       4.0                   0.0   \n",
       "2             4.0                       1.0                   0.0   \n",
       "3             2.0                       2.0                   2.0   \n",
       "4             0.0                       2.0                   0.0   \n",
       "\n",
       "   avg_cars_at home(approx).1   SRP  gross_weight  net_weight  ...  \\\n",
       "0                         1.0  1.84         19.70       17.70  ...   \n",
       "1                         4.0  1.84         19.70       17.70  ...   \n",
       "2                         1.0  1.84         19.70       17.70  ...   \n",
       "3                         2.0  1.84         19.70       17.70  ...   \n",
       "4                         2.0  1.36          7.12        5.11  ...   \n",
       "\n",
       "   media_type_Daily Paper, Radio  media_type_Daily Paper, Radio, TV  \\\n",
       "0                              1                                  0   \n",
       "1                              1                                  0   \n",
       "2                              1                                  0   \n",
       "3                              0                                  0   \n",
       "4                              0                                  0   \n",
       "\n",
       "   media_type_In-Store Coupon  media_type_Product Attachment  \\\n",
       "0                           0                              0   \n",
       "1                           0                              0   \n",
       "2                           0                              0   \n",
       "3                           1                              0   \n",
       "4                           0                              0   \n",
       "\n",
       "   media_type_Radio  media_type_Street Handout  media_type_Sunday Paper  \\\n",
       "0                 0                          0                        0   \n",
       "1                 0                          0                        0   \n",
       "2                 0                          0                        0   \n",
       "3                 0                          0                        0   \n",
       "4                 1                          0                        0   \n",
       "\n",
       "   media_type_Sunday Paper, Radio  media_type_Sunday Paper, Radio, TV  \\\n",
       "0                               0                                   0   \n",
       "1                               0                                   0   \n",
       "2                               0                                   0   \n",
       "3                               0                                   0   \n",
       "4                               0                                   0   \n",
       "\n",
       "   media_type_TV  \n",
       "0              0  \n",
       "1              0  \n",
       "2              0  \n",
       "3              0  \n",
       "4              0  \n",
       "\n",
       "[5 rows x 314 columns]"
      ]
     },
     "execution_count": 14,
     "metadata": {},
     "output_type": "execute_result"
    }
   ],
   "source": [
    "df.head()"
   ]
  },
  {
   "cell_type": "code",
   "execution_count": 15,
   "metadata": {},
   "outputs": [
    {
     "data": {
      "text/plain": [
       "(60428, 314)"
      ]
     },
     "execution_count": 15,
     "metadata": {},
     "output_type": "execute_result"
    }
   ],
   "source": [
    "df.shape"
   ]
  },
  {
   "cell_type": "markdown",
   "metadata": {},
   "source": [
    "find the relationship of the data"
   ]
  },
  {
   "cell_type": "code",
   "execution_count": 16,
   "metadata": {},
   "outputs": [],
   "source": [
    "corr = df.corr()"
   ]
  },
  {
   "cell_type": "markdown",
   "metadata": {},
   "source": [
    "Choose the most relevant information about 15 factors (18 drop 3)."
   ]
  },
  {
   "cell_type": "code",
   "execution_count": 17,
   "metadata": {},
   "outputs": [],
   "source": [
    "#The 3 columns are dropped because they are directly related to sales.\n",
    "larg = pd.DataFrame(corr['unit_sales(in millions)'].nlargest(18).drop(['unit_sales(in millions)','store_sales(in millions)','store_cost(in millions)']))"
   ]
  },
  {
   "cell_type": "markdown",
   "metadata": {},
   "source": [
    "Choose the variable opposite of sales 15 factors"
   ]
  },
  {
   "cell_type": "code",
   "execution_count": 18,
   "metadata": {},
   "outputs": [],
   "source": [
    "small = pd.DataFrame(corr['unit_sales(in millions)'].nsmallest(15))"
   ]
  },
  {
   "cell_type": "markdown",
   "metadata": {},
   "source": [
    "Create a correlation graph with unit_sales"
   ]
  },
  {
   "cell_type": "code",
   "execution_count": 19,
   "metadata": {},
   "outputs": [
    {
     "data": {
      "image/png": "[encoded data removed]",
      "text/plain": [
       "<Figure size 432x288 with 1 Axes>"
      ]
     },
     "metadata": {
      "needs_background": "light"
     },
     "output_type": "display_data"
    }
   ],
   "source": [
    "plt.bar(larg.index,larg['unit_sales(in millions)'],color = 'green')\n",
    "plt.xlabel('Factors')\n",
    "plt.xticks(rotation=90)\n",
    "plt.ylabel('correlation')\n",
    "plt.title('correlation with unit_sales')\n",
    "plt.show()"
   ]
  },
  {
   "cell_type": "markdown",
   "metadata": {},
   "source": [
    "> This graph shows the correlation per 1 million sales, most notably the number of children. With a very high positive correlation, even children at home were involved. Food type, location. And many things are very effective."
   ]
  },
  {
   "cell_type": "markdown",
   "metadata": {},
   "source": [
    "Split data to create graphs."
   ]
  },
  {
   "cell_type": "code",
   "execution_count": 20,
   "metadata": {},
   "outputs": [],
   "source": [
    "def Chooseindexdata(step=2):\n",
    "    \"\"\"\n",
    "    Choose index of dataframe to plot the graph\n",
    "\n",
    "    Args:\n",
    "        step (float, optional): step of percentile . Defaults to 2.\n",
    "\n",
    "    Returns:\n",
    "        list: list of index\n",
    "    \"\"\"\n",
    "    indexline = []\n",
    "    for i in np.arange(0.00,1,step/100.0):\n",
    "        indexline.append(round(len(df.index)*i))\n",
    "    return indexline"
   ]
  },
  {
   "cell_type": "markdown",
   "metadata": {},
   "source": [
    "### Section 4 : Evaluation"
   ]
  },
  {
   "cell_type": "markdown",
   "metadata": {},
   "source": [
    "**Question 1 What is the #1 factor driving sales?**"
   ]
  },
  {
   "cell_type": "code",
   "execution_count": 21,
   "metadata": {},
   "outputs": [],
   "source": [
    "#Select the factors that I would like to present.\n",
    "linechart1 = df[['unit_sales(in millions)','total_children','num_children_at_home']]"
   ]
  },
  {
   "cell_type": "code",
   "execution_count": 22,
   "metadata": {},
   "outputs": [],
   "source": [
    "linechart1 = linechart1.iloc[Chooseindexdata(3)].reset_index()\n",
    "linechart1.drop(['index'],axis=1,inplace=True)"
   ]
  },
  {
   "cell_type": "markdown",
   "metadata": {},
   "source": [
    "Create a line graph and distribution graph showing the relationship.\n",
    "- unit_sales(in millions)\n",
    "- total_children\n",
    "- num_children_at_home"
   ]
  },
  {
   "cell_type": "code",
   "execution_count": 23,
   "metadata": {},
   "outputs": [
    {
     "data": {
      "image/png": "[encoded data removed]",
      "text/plain": [
       "<Figure size 540x252 with 1 Axes>"
      ]
     },
     "metadata": {
      "needs_background": "light"
     },
     "output_type": "display_data"
    }
   ],
   "source": [
    "plt.rcParams[\"figure.figsize\"] = [7.50, 3.50]\n",
    "plt.rcParams[\"figure.autolayout\"] = True\n",
    "plt.plot(linechart1['unit_sales(in millions)'], c='red', alpha=0.4, lw=2)\n",
    "plt.plot(linechart1['total_children'], c='green', alpha=0.4,lw=2)\n",
    "plt.plot(linechart1['num_children_at_home'], c='blue', alpha=0.4,lw=2)\n",
    "plt.show()"
   ]
  },
  {
   "cell_type": "code",
   "execution_count": 24,
   "metadata": {},
   "outputs": [
    {
     "data": {
      "image/png": "[encoded data removed]",
      "text/plain": [
       "<Figure size 511.875x360 with 1 Axes>"
      ]
     },
     "metadata": {
      "needs_background": "light"
     },
     "output_type": "display_data"
    }
   ],
   "source": [
    "p =sns.displot(data=linechart1, kind=\"kde\",fill=True).set(title=\"Corelation unit sales with childen\",xlabel=\"decile of data\" ,ylabel=\"Correlation unit sales with childen\")"
   ]
  },
  {
   "cell_type": "markdown",
   "metadata": {},
   "source": [
    "> From the graph, it was found that when parents had children cause a lot of sales including children at home It’s a very consistent variation."
   ]
  },
  {
   "cell_type": "markdown",
   "metadata": {},
   "source": [
    "**Question 2 What is the next factor that drives sales?**"
   ]
  },
  {
   "cell_type": "markdown",
   "metadata": {},
   "source": [
    "Create a distribution graph showing the relationship.\n",
    "- unit_sales(in millions)\n",
    "- store_type_Supermarket\n",
    "- salad_bar\n",
    "- prepared_food"
   ]
  },
  {
   "cell_type": "code",
   "execution_count": 25,
   "metadata": {},
   "outputs": [],
   "source": [
    "linechart2 = df[['unit_sales(in millions)','store_type_Supermarket','salad_bar','prepared_food']]\n",
    "linechart2 = linechart2.iloc[Chooseindexdata(1)].reset_index()\n",
    "linechart2.drop(['index'],axis=1,inplace=True)"
   ]
  },
  {
   "cell_type": "code",
   "execution_count": 26,
   "metadata": {},
   "outputs": [
    {
     "data": {
      "image/png": "[encoded data removed]",
      "text/plain": [
       "<Figure size 517.5x360 with 1 Axes>"
      ]
     },
     "metadata": {
      "needs_background": "light"
     },
     "output_type": "display_data"
    }
   ],
   "source": [
    "p =sns.displot(data=linechart2, kind=\"kde\",fill=True).set(title=\"Corelation unit sales with types of stores and items for sale\",xlabel=\"decile of data\" ,ylabel=\"Correlation unit sales with types of stores and items for sale\")"
   ]
  },
  {
   "cell_type": "markdown",
   "metadata": {},
   "source": [
    "> The graph shows that when selling at supermarkets and selling salads and flowers Over time, sales will increase. But not as important as children."
   ]
  },
  {
   "cell_type": "markdown",
   "metadata": {},
   "source": [
    "**Question 3 What are the factors that lead to low sales?**"
   ]
  },
  {
   "cell_type": "markdown",
   "metadata": {},
   "source": [
    "Create a volume bar graph."
   ]
  },
  {
   "cell_type": "code",
   "execution_count": 27,
   "metadata": {},
   "outputs": [],
   "source": [
    "%%pycodestyle\n",
    "plt.figure(figsize=(20, 2))\n",
    "plt.bar(small.index,small['unit_sales(in millions)'],color = 'blue')\n",
    "plt.xlabel('Factors')\n",
    "plt.xticks(rotation=90)\n",
    "plt.ylabel('correlation')\n",
    "plt.title('correlation with unit_sales')\n",
    "plt.show()"
   ]
  },
  {
   "cell_type": "markdown",
   "metadata": {},
   "source": [
    "> The graph shows that the grocery store has the lowest sales. But it’s normal because the size of the grocery store isn’t that big. And its locations in San Francisco, Bellingham and Guadalajara have resulted in low sales."
   ]
  },
  {
   "cell_type": "markdown",
   "metadata": {},
   "source": [
    "**Question 4 What kind of advertising is the most profitable?**"
   ]
  },
  {
   "cell_type": "markdown",
   "metadata": {},
   "source": [
    "Create a new dataframe for advertising analytics."
   ]
  },
  {
   "cell_type": "code",
   "execution_count": 28,
   "metadata": {},
   "outputs": [],
   "source": [
    "ndf = pd.read_csv('media prediction and its cost.csv')"
   ]
  },
  {
   "cell_type": "markdown",
   "metadata": {},
   "source": [
    "Select the columns associated with sales and media columns."
   ]
  },
  {
   "cell_type": "code",
   "execution_count": 29,
   "metadata": {},
   "outputs": [],
   "source": [
    "ndf = ndf[['media_type','store_sales(in millions)','store_cost(in millions)','unit_sales(in millions)']]\n",
    "ndf = pd.concat([ndf.drop(['media_type'], axis=1), pd.get_dummies(ndf['media_type'], prefix='media_type', prefix_sep='_', drop_first=True)], axis=1)"
   ]
  },
  {
   "cell_type": "code",
   "execution_count": 30,
   "metadata": {},
   "outputs": [
    {
     "data": {
      "text/plain": [
       "(60428, 15)"
      ]
     },
     "execution_count": 30,
     "metadata": {},
     "output_type": "execute_result"
    }
   ],
   "source": [
    "ndfcorr = ndf.corr()\n",
    "ndf.shape"
   ]
  },
  {
   "cell_type": "code",
   "execution_count": 31,
   "metadata": {},
   "outputs": [
    {
     "data": {
      "text/html": [
       "<div>\n",
       "<style scoped>\n",
       "    .dataframe tbody tr th:only-of-type {\n",
       "        vertical-align: middle;\n",
       "    }\n",
       "\n",
       "    .dataframe tbody tr th {\n",
       "        vertical-align: top;\n",
       "    }\n",
       "\n",
       "    .dataframe thead th {\n",
       "        text-align: right;\n",
       "    }\n",
       "</style>\n",
       "<table border=\"1\" class=\"dataframe\">\n",
       "  <thead>\n",
       "    <tr style=\"text-align: right;\">\n",
       "      <th></th>\n",
       "      <th>store_sales(in millions)</th>\n",
       "      <th>store_cost(in millions)</th>\n",
       "      <th>unit_sales(in millions)</th>\n",
       "      <th>media_type_Cash Register Handout</th>\n",
       "      <th>media_type_Daily Paper</th>\n",
       "      <th>media_type_Daily Paper, Radio</th>\n",
       "      <th>media_type_Daily Paper, Radio, TV</th>\n",
       "      <th>media_type_In-Store Coupon</th>\n",
       "      <th>media_type_Product Attachment</th>\n",
       "      <th>media_type_Radio</th>\n",
       "      <th>media_type_Street Handout</th>\n",
       "      <th>media_type_Sunday Paper</th>\n",
       "      <th>media_type_Sunday Paper, Radio</th>\n",
       "      <th>media_type_Sunday Paper, Radio, TV</th>\n",
       "      <th>media_type_TV</th>\n",
       "    </tr>\n",
       "  </thead>\n",
       "  <tbody>\n",
       "    <tr>\n",
       "      <th>0</th>\n",
       "      <td>7.36</td>\n",
       "      <td>2.7232</td>\n",
       "      <td>4.0</td>\n",
       "      <td>0</td>\n",
       "      <td>0</td>\n",
       "      <td>1</td>\n",
       "      <td>0</td>\n",
       "      <td>0</td>\n",
       "      <td>0</td>\n",
       "      <td>0</td>\n",
       "      <td>0</td>\n",
       "      <td>0</td>\n",
       "      <td>0</td>\n",
       "      <td>0</td>\n",
       "      <td>0</td>\n",
       "    </tr>\n",
       "    <tr>\n",
       "      <th>1</th>\n",
       "      <td>5.52</td>\n",
       "      <td>2.5944</td>\n",
       "      <td>3.0</td>\n",
       "      <td>0</td>\n",
       "      <td>0</td>\n",
       "      <td>1</td>\n",
       "      <td>0</td>\n",
       "      <td>0</td>\n",
       "      <td>0</td>\n",
       "      <td>0</td>\n",
       "      <td>0</td>\n",
       "      <td>0</td>\n",
       "      <td>0</td>\n",
       "      <td>0</td>\n",
       "      <td>0</td>\n",
       "    </tr>\n",
       "    <tr>\n",
       "      <th>2</th>\n",
       "      <td>3.68</td>\n",
       "      <td>1.3616</td>\n",
       "      <td>2.0</td>\n",
       "      <td>0</td>\n",
       "      <td>0</td>\n",
       "      <td>1</td>\n",
       "      <td>0</td>\n",
       "      <td>0</td>\n",
       "      <td>0</td>\n",
       "      <td>0</td>\n",
       "      <td>0</td>\n",
       "      <td>0</td>\n",
       "      <td>0</td>\n",
       "      <td>0</td>\n",
       "      <td>0</td>\n",
       "    </tr>\n",
       "    <tr>\n",
       "      <th>3</th>\n",
       "      <td>3.68</td>\n",
       "      <td>1.1776</td>\n",
       "      <td>2.0</td>\n",
       "      <td>0</td>\n",
       "      <td>0</td>\n",
       "      <td>0</td>\n",
       "      <td>0</td>\n",
       "      <td>1</td>\n",
       "      <td>0</td>\n",
       "      <td>0</td>\n",
       "      <td>0</td>\n",
       "      <td>0</td>\n",
       "      <td>0</td>\n",
       "      <td>0</td>\n",
       "      <td>0</td>\n",
       "    </tr>\n",
       "    <tr>\n",
       "      <th>4</th>\n",
       "      <td>4.08</td>\n",
       "      <td>1.4280</td>\n",
       "      <td>3.0</td>\n",
       "      <td>0</td>\n",
       "      <td>0</td>\n",
       "      <td>0</td>\n",
       "      <td>0</td>\n",
       "      <td>0</td>\n",
       "      <td>0</td>\n",
       "      <td>1</td>\n",
       "      <td>0</td>\n",
       "      <td>0</td>\n",
       "      <td>0</td>\n",
       "      <td>0</td>\n",
       "      <td>0</td>\n",
       "    </tr>\n",
       "  </tbody>\n",
       "</table>\n",
       "</div>"
      ],
      "text/plain": [
       "   store_sales(in millions)  store_cost(in millions)  unit_sales(in millions)  \\\n",
       "0                      7.36                   2.7232                      4.0   \n",
       "1                      5.52                   2.5944                      3.0   \n",
       "2                      3.68                   1.3616                      2.0   \n",
       "3                      3.68                   1.1776                      2.0   \n",
       "4                      4.08                   1.4280                      3.0   \n",
       "\n",
       "   media_type_Cash Register Handout  media_type_Daily Paper  \\\n",
       "0                                 0                       0   \n",
       "1                                 0                       0   \n",
       "2                                 0                       0   \n",
       "3                                 0                       0   \n",
       "4                                 0                       0   \n",
       "\n",
       "   media_type_Daily Paper, Radio  media_type_Daily Paper, Radio, TV  \\\n",
       "0                              1                                  0   \n",
       "1                              1                                  0   \n",
       "2                              1                                  0   \n",
       "3                              0                                  0   \n",
       "4                              0                                  0   \n",
       "\n",
       "   media_type_In-Store Coupon  media_type_Product Attachment  \\\n",
       "0                           0                              0   \n",
       "1                           0                              0   \n",
       "2                           0                              0   \n",
       "3                           1                              0   \n",
       "4                           0                              0   \n",
       "\n",
       "   media_type_Radio  media_type_Street Handout  media_type_Sunday Paper  \\\n",
       "0                 0                          0                        0   \n",
       "1                 0                          0                        0   \n",
       "2                 0                          0                        0   \n",
       "3                 0                          0                        0   \n",
       "4                 1                          0                        0   \n",
       "\n",
       "   media_type_Sunday Paper, Radio  media_type_Sunday Paper, Radio, TV  \\\n",
       "0                               0                                   0   \n",
       "1                               0                                   0   \n",
       "2                               0                                   0   \n",
       "3                               0                                   0   \n",
       "4                               0                                   0   \n",
       "\n",
       "   media_type_TV  \n",
       "0              0  \n",
       "1              0  \n",
       "2              0  \n",
       "3              0  \n",
       "4              0  "
      ]
     },
     "execution_count": 31,
     "metadata": {},
     "output_type": "execute_result"
    }
   ],
   "source": [
    "ndf.head()"
   ]
  },
  {
   "cell_type": "markdown",
   "metadata": {},
   "source": [
    "correlation store_sales(in millions) with media type The most 3 are\n",
    "- media_type_TV \n",
    "- media_type_Radio\n",
    "- media_type_Product Attachment"
   ]
  },
  {
   "cell_type": "code",
   "execution_count": 32,
   "metadata": {},
   "outputs": [
    {
     "data": {
      "text/plain": [
       "store_sales(in millions)              1.000000\n",
       "store_cost(in millions)               0.954685\n",
       "unit_sales(in millions)               0.503482\n",
       "media_type_TV                         0.006053\n",
       "media_type_Radio                      0.005887\n",
       "media_type_Product Attachment         0.005577\n",
       "media_type_Daily Paper, Radio, TV     0.004711\n",
       "media_type_Sunday Paper, Radio        0.002414\n",
       "media_type_Daily Paper                0.001548\n",
       "media_type_Street Handout             0.000146\n",
       "media_type_In-Store Coupon           -0.002143\n",
       "media_type_Sunday Paper              -0.003389\n",
       "media_type_Daily Paper, Radio        -0.004099\n",
       "media_type_Sunday Paper, Radio, TV   -0.007946\n",
       "media_type_Cash Register Handout     -0.009583\n",
       "Name: store_sales(in millions), dtype: float64"
      ]
     },
     "execution_count": 32,
     "metadata": {},
     "output_type": "execute_result"
    }
   ],
   "source": [
    "ndfcorr['store_sales(in millions)'].nlargest(20)"
   ]
  },
  {
   "cell_type": "markdown",
   "metadata": {},
   "source": [
    "correlation store_cost(in millions) with media type The most 3 are\n",
    "- media_type_Radio \n",
    "- media_type_TV\n",
    "- media_type_Product Attachment"
   ]
  },
  {
   "cell_type": "code",
   "execution_count": 33,
   "metadata": {},
   "outputs": [
    {
     "data": {
      "text/plain": [
       "store_cost(in millions)               1.000000\n",
       "store_sales(in millions)              0.954685\n",
       "unit_sales(in millions)               0.480087\n",
       "media_type_Radio                      0.006094\n",
       "media_type_TV                         0.005557\n",
       "media_type_Product Attachment         0.004819\n",
       "media_type_Daily Paper, Radio, TV     0.002955\n",
       "media_type_Sunday Paper, Radio        0.002562\n",
       "media_type_Street Handout             0.000437\n",
       "media_type_Sunday Paper              -0.000408\n",
       "media_type_In-Store Coupon           -0.001711\n",
       "media_type_Daily Paper               -0.001979\n",
       "media_type_Daily Paper, Radio        -0.003047\n",
       "media_type_Sunday Paper, Radio, TV   -0.007057\n",
       "media_type_Cash Register Handout     -0.008956\n",
       "Name: store_cost(in millions), dtype: float64"
      ]
     },
     "execution_count": 33,
     "metadata": {},
     "output_type": "execute_result"
    }
   ],
   "source": [
    "ndfcorr['store_cost(in millions)'].nlargest(20)"
   ]
  },
  {
   "cell_type": "markdown",
   "metadata": {},
   "source": [
    "correlation unit_sales(in millions) with media type The most 3 are\n",
    "- media_type_Radio  \n",
    "- media_type_Daily Paper, Radio, TV\n",
    "- media_type_Sunday Paper, Radio"
   ]
  },
  {
   "cell_type": "code",
   "execution_count": 34,
   "metadata": {},
   "outputs": [
    {
     "data": {
      "text/plain": [
       "unit_sales(in millions)               1.000000\n",
       "store_sales(in millions)              0.503482\n",
       "store_cost(in millions)               0.480087\n",
       "media_type_Radio                      0.015706\n",
       "media_type_Daily Paper, Radio, TV     0.012082\n",
       "media_type_Sunday Paper, Radio        0.007569\n",
       "media_type_Street Handout             0.005750\n",
       "media_type_Product Attachment         0.003906\n",
       "media_type_TV                         0.000494\n",
       "media_type_In-Store Coupon            0.000321\n",
       "media_type_Daily Paper                0.000149\n",
       "media_type_Daily Paper, Radio        -0.001353\n",
       "media_type_Sunday Paper              -0.004905\n",
       "media_type_Sunday Paper, Radio, TV   -0.015714\n",
       "media_type_Cash Register Handout     -0.019768\n",
       "Name: unit_sales(in millions), dtype: float64"
      ]
     },
     "execution_count": 34,
     "metadata": {},
     "output_type": "execute_result"
    }
   ],
   "source": [
    "ndfcorr['unit_sales(in millions)'].nlargest(20)"
   ]
  },
  {
   "cell_type": "markdown",
   "metadata": {},
   "source": [
    ">From the text, it can be concluded that the 3 marketing that generates the most sales, profits and revenues are\n",
    "- 1.media_type_Radio\n",
    "- 2.media_type_TV\n",
    "- 3.media_type_Product Attachment"
   ]
  },
  {
   "cell_type": "markdown",
   "metadata": {},
   "source": []
  }
 ],
 "metadata": {
  "kernelspec": {
   "display_name": "Python 3.10.6 64-bit (microsoft store)",
   "language": "python",
   "name": "python3"
  },
  "language_info": {
   "codemirror_mode": {
    "name": "ipython",
    "version": 3
   },
   "file_extension": ".py",
   "mimetype": "text/x-python",
   "name": "python",
   "nbconvert_exporter": "python",
   "pygments_lexer": "ipython3",
   "version": "3.10.6"
  },
  "orig_nbformat": 4,
  "vscode": {
   "interpreter": {
    "hash": "93f77bb0e0041463e83a88e63c1d5b23a0f0b7ad557387b12c6b0f2ebd4277a5"
   }
  }
 },
 "nbformat": 4,
 "nbformat_minor": 2
}
